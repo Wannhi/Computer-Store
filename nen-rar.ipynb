{
 "cells": [
  {
   "cell_type": "markdown",
   "id": "0ae54a77",
   "metadata": {},
   "source": [
    "# Nén Rar Backend"
   ]
  },
  {
   "cell_type": "code",
   "execution_count": 1,
   "id": "11d60084",
   "metadata": {},
   "outputs": [
    {
     "name": "stdout",
     "output_type": "stream",
     "text": [
      "Đã nén thành công: backend.rar\n"
     ]
    }
   ],
   "source": [
    "import subprocess\n",
    "\n",
    "def rar_backend_without_node_modules():\n",
    "    rar_path = r\"C:\\Program Files\\WinRAR\\Rar.exe\"  # chỉnh đường dẫn nếu khác\n",
    "    source_folder = \"backend\"\n",
    "    output_rar = \"backend.rar\"\n",
    "\n",
    "    command = [\n",
    "        rar_path,\n",
    "        \"a\",               # add to archive\n",
    "        \"-r\",              # recurse subdirectories\n",
    "        f\"-x{source_folder}\\\\node_modules\\\\*\",  # exclude node_modules\n",
    "        output_rar,\n",
    "        source_folder\n",
    "    ]\n",
    "\n",
    "    subprocess.run(command)\n",
    "    print(f\"Đã nén thành công: {output_rar}\")\n",
    "\n",
    "rar_backend_without_node_modules()\n"
   ]
  },
  {
   "cell_type": "markdown",
   "id": "de11a87b",
   "metadata": {},
   "source": [
    "# Nén Rar Frontend"
   ]
  },
  {
   "cell_type": "code",
   "execution_count": 2,
   "id": "86b8a92b",
   "metadata": {},
   "outputs": [
    {
     "name": "stdout",
     "output_type": "stream",
     "text": [
      "Đã nén thành công: frontend.rar\n"
     ]
    }
   ],
   "source": [
    "import subprocess\n",
    "\n",
    "def rar_frontend_without_node_modules():\n",
    "    rar_path = r\"C:\\Program Files\\WinRAR\\Rar.exe\"  # Đường dẫn tới WinRAR, chỉnh nếu cần\n",
    "    source_folder = \"frontend\"\n",
    "    output_rar = \"frontend.rar\"\n",
    "\n",
    "    command = [\n",
    "        rar_path,\n",
    "        \"a\",                          # Add to archive\n",
    "        \"-r\",                         # Recurse into subdirectories\n",
    "        f\"-x{source_folder}\\\\node_modules\\\\*\",  # Exclude node_modules\n",
    "        output_rar,\n",
    "        source_folder\n",
    "    ]\n",
    "\n",
    "    subprocess.run(command)\n",
    "    print(f\"Đã nén thành công: {output_rar}\")\n",
    "\n",
    "rar_frontend_without_node_modules()\n"
   ]
  },
  {
   "cell_type": "markdown",
   "id": "8ce59a8e",
   "metadata": {},
   "source": [
    "# Giải nén Rar Backend"
   ]
  },
  {
   "cell_type": "code",
   "execution_count": 7,
   "id": "fb623cc2",
   "metadata": {},
   "outputs": [
    {
     "name": "stdout",
     "output_type": "stream",
     "text": [
      "✅ Đã giải nén backend.rar tại thư mục hiện tại\n"
     ]
    }
   ],
   "source": [
    "import subprocess\n",
    "import os\n",
    "\n",
    "def extract_rar_here(rar_file):\n",
    "    winrar_path = r\"C:\\Program Files\\WinRAR\\WinRAR.exe\"  # Cập nhật nếu WinRAR nằm chỗ khác\n",
    "\n",
    "    if not os.path.exists(winrar_path):\n",
    "        print(\"❌ Không tìm thấy WinRAR! Kiểm tra lại đường dẫn.\")\n",
    "        return\n",
    "\n",
    "    current_dir = os.getcwd()  # Thư mục hiện tại chứa file rar\n",
    "\n",
    "    command = [\n",
    "        winrar_path,\n",
    "        \"x\",           # extract with full path\n",
    "        \"-o+\",         # overwrite existing files\n",
    "        \"-idq\",        # quiet output\n",
    "        rar_file,\n",
    "        current_dir + \"\\\\\"  # Giải nén ngay tại đây\n",
    "    ]\n",
    "\n",
    "    try:\n",
    "        subprocess.run(command, check=True)\n",
    "        print(f\"✅ Đã giải nén {rar_file} tại thư mục hiện tại\")\n",
    "    except subprocess.CalledProcessError as e:\n",
    "        print(f\"❌ Lỗi giải nén {rar_file}: {e}\")\n",
    "\n",
    "# --- Giải nén backend.rar tại thư mục hiện tại ---\n",
    "extract_rar_here(\"backend.rar\")\n"
   ]
  },
  {
   "cell_type": "markdown",
   "id": "c8e9dea7",
   "metadata": {},
   "source": [
    "# Giải nén Rar Frontend"
   ]
  },
  {
   "cell_type": "code",
   "execution_count": 8,
   "id": "403656d4",
   "metadata": {},
   "outputs": [
    {
     "name": "stdout",
     "output_type": "stream",
     "text": [
      "✅ Đã giải nén frontend.rar tại thư mục hiện tại\n"
     ]
    }
   ],
   "source": [
    "import subprocess\n",
    "import os\n",
    "\n",
    "def extract_rar_here(rar_file):\n",
    "    winrar_path = r\"C:\\Program Files\\WinRAR\\WinRAR.exe\"  # Cập nhật nếu WinRAR nằm chỗ khác\n",
    "\n",
    "    if not os.path.exists(winrar_path):\n",
    "        print(\"❌ Không tìm thấy WinRAR! Kiểm tra lại đường dẫn.\")\n",
    "        return\n",
    "\n",
    "    current_dir = os.getcwd()  # Thư mục hiện tại chứa file rar\n",
    "\n",
    "    command = [\n",
    "        winrar_path,\n",
    "        \"x\",           # extract with full path\n",
    "        \"-o+\",         # overwrite existing files\n",
    "        \"-idq\",        # quiet output\n",
    "        rar_file,\n",
    "        current_dir + \"\\\\\"  # Giải nén ngay tại đây\n",
    "    ]\n",
    "\n",
    "    try:\n",
    "        subprocess.run(command, check=True)\n",
    "        print(f\"✅ Đã giải nén {rar_file} tại thư mục hiện tại\")\n",
    "    except subprocess.CalledProcessError as e:\n",
    "        print(f\"❌ Lỗi giải nén {rar_file}: {e}\")\n",
    "\n",
    "# --- Giải nén frontend.rar tại thư mục hiện tại ---\n",
    "extract_rar_here(\"frontend.rar\")\n"
   ]
  },
  {
   "cell_type": "markdown",
   "id": "a20d5979",
   "metadata": {},
   "source": [
    "# Npm install"
   ]
  },
  {
   "cell_type": "code",
   "execution_count": null,
   "id": "94df4401",
   "metadata": {},
   "outputs": [
    {
     "name": "stdout",
     "output_type": "stream",
     "text": [
      "🚀 Đang cài đặt dependencies trong thư mục backend...\n",
      "✅ Cài đặt thành công trong thư mục backend\n"
     ]
    }
   ],
   "source": [
    "import subprocess\n",
    "\n",
    "def run_npm_install(directory):\n",
    "    print(f\"🚀 Đang cài đặt dependencies trong thư mục {directory}...\")\n",
    "    \n",
    "    try:\n",
    "        subprocess.run([\"cmd\", \"/c\", \"npm install\"], check=True, cwd=directory)\n",
    "        print(f\"✅ Cài đặt thành công trong thư mục {directory}\")\n",
    "    except subprocess.CalledProcessError as e:\n",
    "        print(f\"❌ Lỗi cài đặt npm tại {directory}: {e}\")\n",
    "\n",
    "# --- Chạy npm install trong backend và frontend ---\n",
    "run_npm_install(\"backend\")\n",
    "run_npm_install(\"frontend\")\n"
   ]
  }
 ],
 "metadata": {
  "kernelspec": {
   "display_name": "Python 3",
   "language": "python",
   "name": "python3"
  },
  "language_info": {
   "codemirror_mode": {
    "name": "ipython",
    "version": 3
   },
   "file_extension": ".py",
   "mimetype": "text/x-python",
   "name": "python",
   "nbconvert_exporter": "python",
   "pygments_lexer": "ipython3",
   "version": "3.11.9"
  }
 },
 "nbformat": 4,
 "nbformat_minor": 5
}
